{
  "metadata": {
    "kernelspec": {
      "language": "python",
      "display_name": "Python 3",
      "name": "python3"
    },
    "language_info": {
      "name": "python",
      "version": "3.10.12",
      "mimetype": "text/x-python",
      "codemirror_mode": {
        "name": "ipython",
        "version": 3
      },
      "pygments_lexer": "ipython3",
      "nbconvert_exporter": "python",
      "file_extension": ".py"
    },
    "kaggle": {
      "accelerator": "none",
      "dataSources": [
        {
          "sourceId": 2157,
          "sourceType": "datasetVersion",
          "datasetId": 18
        }
      ],
      "dockerImageVersionId": 30886,
      "isInternetEnabled": true,
      "language": "python",
      "sourceType": "notebook",
      "isGpuEnabled": false
    },
    "colab": {
      "name": "Sentimental Analysis-AmazonFoodReview",
      "provenance": [],
      "include_colab_link": true
    }
  },
  "nbformat_minor": 0,
  "nbformat": 4,
  "cells": [
    {
      "cell_type": "markdown",
      "metadata": {
        "id": "view-in-github",
        "colab_type": "text"
      },
      "source": [
        "<a href=\"https://colab.research.google.com/github/benpkxd/Data-Analysis-Skills/blob/main/Python/Dataprep%2BDataAnalyze/Sentimental_Analysis_AmazonFoodReview.ipynb\" target=\"_parent\"><img src=\"https://colab.research.google.com/assets/colab-badge.svg\" alt=\"Open In Colab\"/></a>"
      ]
    },
    {
      "source": [
        "# IMPORTANT: RUN THIS CELL IN ORDER TO IMPORT YOUR KAGGLE DATA SOURCES,\n",
        "# THEN FEEL FREE TO DELETE THIS CELL.\n",
        "# NOTE: THIS NOTEBOOK ENVIRONMENT DIFFERS FROM KAGGLE'S PYTHON\n",
        "# ENVIRONMENT SO THERE MAY BE MISSING LIBRARIES USED BY YOUR\n",
        "# NOTEBOOK.\n",
        "import kagglehub\n",
        "organizations_snap_amazon_fine_food_reviews_path = kagglehub.dataset_download('organizations/snap/amazon-fine-food-reviews')\n",
        "\n",
        "print('Data source import complete.')\n"
      ],
      "metadata": {
        "id": "jVD0hdYrGndW"
      },
      "cell_type": "code",
      "outputs": [],
      "execution_count": null
    },
    {
      "cell_type": "raw",
      "source": [],
      "metadata": {
        "_uuid": "8f2839f25d086af736a60e9eeb907d3b93b6e0e5",
        "_cell_guid": "b1076dfc-b9ad-4769-8c92-a6c4dae69d19",
        "jupyter": {
          "source_hidden": true
        },
        "id": "yW0Yyn8mGnda"
      }
    },
    {
      "cell_type": "code",
      "source": [
        "import pandas as pd\n",
        "import numpy as np\n",
        "import matplotlib.pyplot as plt\n",
        "import seaborn as sns\n",
        "\n",
        "plt.style.use('ggplot')\n",
        "import nltk"
      ],
      "metadata": {
        "trusted": true,
        "execution": {
          "iopub.status.busy": "2025-02-09T00:20:09.838723Z",
          "iopub.execute_input": "2025-02-09T00:20:09.839083Z",
          "iopub.status.idle": "2025-02-09T00:20:09.84478Z",
          "shell.execute_reply.started": "2025-02-09T00:20:09.839057Z",
          "shell.execute_reply": "2025-02-09T00:20:09.843384Z"
        },
        "id": "bglR9XGPGndb"
      },
      "outputs": [],
      "execution_count": null
    },
    {
      "cell_type": "code",
      "source": [
        "#read data\n",
        "df = pd.read_csv('/kaggle/input/amazon-fine-food-reviews/Reviews.csv')\n",
        "df = df.head(500)"
      ],
      "metadata": {
        "trusted": true,
        "execution": {
          "iopub.status.busy": "2025-02-09T00:20:09.846327Z",
          "iopub.execute_input": "2025-02-09T00:20:09.846764Z",
          "iopub.status.idle": "2025-02-09T00:20:14.220565Z",
          "shell.execute_reply.started": "2025-02-09T00:20:09.846697Z",
          "shell.execute_reply": "2025-02-09T00:20:14.219684Z"
        },
        "id": "a3jG7JFxGndb"
      },
      "outputs": [],
      "execution_count": null
    },
    {
      "cell_type": "code",
      "source": [
        "df.head()"
      ],
      "metadata": {
        "trusted": true,
        "execution": {
          "iopub.status.busy": "2025-02-09T00:20:14.222468Z",
          "iopub.execute_input": "2025-02-09T00:20:14.222828Z",
          "iopub.status.idle": "2025-02-09T00:20:14.235773Z",
          "shell.execute_reply.started": "2025-02-09T00:20:14.222795Z",
          "shell.execute_reply": "2025-02-09T00:20:14.234943Z"
        },
        "id": "Jz3FbTldGndc",
        "outputId": "de601db0-84ed-4285-a526-068ef2fe08b1"
      },
      "outputs": [
        {
          "execution_count": 31,
          "output_type": "execute_result",
          "data": {
            "text/plain": "   Id   ProductId          UserId                      ProfileName  \\\n0   1  B001E4KFG0  A3SGXH7AUHU8GW                       delmartian   \n1   2  B00813GRG4  A1D87F6ZCVE5NK                           dll pa   \n2   3  B000LQOCH0   ABXLMWJIXXAIN  Natalia Corres \"Natalia Corres\"   \n3   4  B000UA0QIQ  A395BORC6FGVXV                             Karl   \n4   5  B006K2ZZ7K  A1UQRSCLF8GW1T    Michael D. Bigham \"M. Wassir\"   \n\n   HelpfulnessNumerator  HelpfulnessDenominator  Score        Time  \\\n0                     1                       1      5  1303862400   \n1                     0                       0      1  1346976000   \n2                     1                       1      4  1219017600   \n3                     3                       3      2  1307923200   \n4                     0                       0      5  1350777600   \n\n                 Summary                                               Text  \n0  Good Quality Dog Food  I have bought several of the Vitality canned d...  \n1      Not as Advertised  Product arrived labeled as Jumbo Salted Peanut...  \n2  \"Delight\" says it all  This is a confection that has been around a fe...  \n3         Cough Medicine  If you are looking for the secret ingredient i...  \n4            Great taffy  Great taffy at a great price.  There was a wid...  ",
            "text/html": "<div>\n<style scoped>\n    .dataframe tbody tr th:only-of-type {\n        vertical-align: middle;\n    }\n\n    .dataframe tbody tr th {\n        vertical-align: top;\n    }\n\n    .dataframe thead th {\n        text-align: right;\n    }\n</style>\n<table border=\"1\" class=\"dataframe\">\n  <thead>\n    <tr style=\"text-align: right;\">\n      <th></th>\n      <th>Id</th>\n      <th>ProductId</th>\n      <th>UserId</th>\n      <th>ProfileName</th>\n      <th>HelpfulnessNumerator</th>\n      <th>HelpfulnessDenominator</th>\n      <th>Score</th>\n      <th>Time</th>\n      <th>Summary</th>\n      <th>Text</th>\n    </tr>\n  </thead>\n  <tbody>\n    <tr>\n      <th>0</th>\n      <td>1</td>\n      <td>B001E4KFG0</td>\n      <td>A3SGXH7AUHU8GW</td>\n      <td>delmartian</td>\n      <td>1</td>\n      <td>1</td>\n      <td>5</td>\n      <td>1303862400</td>\n      <td>Good Quality Dog Food</td>\n      <td>I have bought several of the Vitality canned d...</td>\n    </tr>\n    <tr>\n      <th>1</th>\n      <td>2</td>\n      <td>B00813GRG4</td>\n      <td>A1D87F6ZCVE5NK</td>\n      <td>dll pa</td>\n      <td>0</td>\n      <td>0</td>\n      <td>1</td>\n      <td>1346976000</td>\n      <td>Not as Advertised</td>\n      <td>Product arrived labeled as Jumbo Salted Peanut...</td>\n    </tr>\n    <tr>\n      <th>2</th>\n      <td>3</td>\n      <td>B000LQOCH0</td>\n      <td>ABXLMWJIXXAIN</td>\n      <td>Natalia Corres \"Natalia Corres\"</td>\n      <td>1</td>\n      <td>1</td>\n      <td>4</td>\n      <td>1219017600</td>\n      <td>\"Delight\" says it all</td>\n      <td>This is a confection that has been around a fe...</td>\n    </tr>\n    <tr>\n      <th>3</th>\n      <td>4</td>\n      <td>B000UA0QIQ</td>\n      <td>A395BORC6FGVXV</td>\n      <td>Karl</td>\n      <td>3</td>\n      <td>3</td>\n      <td>2</td>\n      <td>1307923200</td>\n      <td>Cough Medicine</td>\n      <td>If you are looking for the secret ingredient i...</td>\n    </tr>\n    <tr>\n      <th>4</th>\n      <td>5</td>\n      <td>B006K2ZZ7K</td>\n      <td>A1UQRSCLF8GW1T</td>\n      <td>Michael D. Bigham \"M. Wassir\"</td>\n      <td>0</td>\n      <td>0</td>\n      <td>5</td>\n      <td>1350777600</td>\n      <td>Great taffy</td>\n      <td>Great taffy at a great price.  There was a wid...</td>\n    </tr>\n  </tbody>\n</table>\n</div>"
          },
          "metadata": {}
        }
      ],
      "execution_count": null
    },
    {
      "cell_type": "markdown",
      "source": [
        "Quick EDA"
      ],
      "metadata": {
        "id": "XA0qN4ahGndd"
      }
    },
    {
      "cell_type": "code",
      "source": [
        "ax = df['Score'].value_counts().sort_index().plot(kind = 'bar', title = 'count of reviews by stars', figsize = (10,5))\n",
        "\n",
        "ax.set_xlabel('Review Stars')\n",
        "plt.show()"
      ],
      "metadata": {
        "trusted": true,
        "execution": {
          "iopub.status.busy": "2025-02-09T00:20:14.2372Z",
          "iopub.execute_input": "2025-02-09T00:20:14.237537Z",
          "iopub.status.idle": "2025-02-09T00:20:14.449357Z",
          "shell.execute_reply.started": "2025-02-09T00:20:14.237513Z",
          "shell.execute_reply": "2025-02-09T00:20:14.448181Z"
        },
        "id": "WJ3O5LrGGnde",
        "outputId": "52d442a1-23a4-45b7-927b-e095fb0acc00"
      },
      "outputs": [
        {
          "output_type": "display_data",
          "data": {
            "text/plain": "<Figure size 1000x500 with 1 Axes>",
            "image/png": "[encoded data removed]"
          },
          "metadata": {}
        }
      ],
      "execution_count": null
    },
    {
      "cell_type": "markdown",
      "source": [
        "Basic NLTK"
      ],
      "metadata": {
        "id": "_1OJB-dcGndg"
      }
    },
    {
      "cell_type": "code",
      "source": [
        "ex = df['Text'][50]\n",
        "print(ex)"
      ],
      "metadata": {
        "trusted": true,
        "execution": {
          "iopub.status.busy": "2025-02-09T00:20:14.450497Z",
          "iopub.execute_input": "2025-02-09T00:20:14.450862Z",
          "iopub.status.idle": "2025-02-09T00:20:14.456357Z",
          "shell.execute_reply.started": "2025-02-09T00:20:14.450828Z",
          "shell.execute_reply": "2025-02-09T00:20:14.455382Z"
        },
        "id": "JXTTQRO-Gndh",
        "outputId": "9fddc4ee-622f-4c01-97cd-d878073473fe"
      },
      "outputs": [
        {
          "name": "stdout",
          "text": "This oatmeal is not good. Its mushy, soft, I don't like it. Quaker Oats is the way to go.\n",
          "output_type": "stream"
        }
      ],
      "execution_count": null
    },
    {
      "cell_type": "code",
      "source": [
        "tokens = nltk.word_tokenize(ex)\n",
        "tokens[:10]"
      ],
      "metadata": {
        "trusted": true,
        "execution": {
          "iopub.status.busy": "2025-02-09T00:20:14.457333Z",
          "iopub.execute_input": "2025-02-09T00:20:14.45758Z",
          "iopub.status.idle": "2025-02-09T00:20:14.473737Z",
          "shell.execute_reply.started": "2025-02-09T00:20:14.457558Z",
          "shell.execute_reply": "2025-02-09T00:20:14.472863Z"
        },
        "id": "-2qwbvAMGndh",
        "outputId": "5097d4f5-87cb-4741-d45c-5e1853aa40fb"
      },
      "outputs": [
        {
          "execution_count": 34,
          "output_type": "execute_result",
          "data": {
            "text/plain": "['This', 'oatmeal', 'is', 'not', 'good', '.', 'Its', 'mushy', ',', 'soft']"
          },
          "metadata": {}
        }
      ],
      "execution_count": null
    },
    {
      "cell_type": "code",
      "source": [
        "tagged = nltk.pos_tag(tokens)\n",
        "tagged[:10]"
      ],
      "metadata": {
        "trusted": true,
        "execution": {
          "iopub.status.busy": "2025-02-09T00:20:14.474669Z",
          "iopub.execute_input": "2025-02-09T00:20:14.474965Z",
          "iopub.status.idle": "2025-02-09T00:20:14.492209Z",
          "shell.execute_reply.started": "2025-02-09T00:20:14.474941Z",
          "shell.execute_reply": "2025-02-09T00:20:14.491356Z"
        },
        "id": "61SjDJ9lGndi",
        "outputId": "ecf41ee7-25cc-49b8-bc68-1f5baf7db82e"
      },
      "outputs": [
        {
          "execution_count": 35,
          "output_type": "execute_result",
          "data": {
            "text/plain": "[('This', 'DT'),\n ('oatmeal', 'NN'),\n ('is', 'VBZ'),\n ('not', 'RB'),\n ('good', 'JJ'),\n ('.', '.'),\n ('Its', 'PRP$'),\n ('mushy', 'NN'),\n (',', ','),\n ('soft', 'JJ')]"
          },
          "metadata": {}
        }
      ],
      "execution_count": null
    },
    {
      "cell_type": "code",
      "source": [
        "entities = nltk.chunk.ne_chunk(tagged)\n",
        "entities.pprint()"
      ],
      "metadata": {
        "trusted": true,
        "execution": {
          "iopub.status.busy": "2025-02-09T00:20:14.494806Z",
          "iopub.execute_input": "2025-02-09T00:20:14.49509Z",
          "iopub.status.idle": "2025-02-09T00:20:14.516737Z",
          "shell.execute_reply.started": "2025-02-09T00:20:14.495067Z",
          "shell.execute_reply": "2025-02-09T00:20:14.515852Z"
        },
        "id": "OKdsxUsRGndi",
        "outputId": "6e81f935-8448-4326-e389-76e7ed85033c"
      },
      "outputs": [
        {
          "name": "stdout",
          "text": "(S\n  This/DT\n  oatmeal/NN\n  is/VBZ\n  not/RB\n  good/JJ\n  ./.\n  Its/PRP$\n  mushy/NN\n  ,/,\n  soft/JJ\n  ,/,\n  I/PRP\n  do/VBP\n  n't/RB\n  like/VB\n  it/PRP\n  ./.\n  (ORGANIZATION Quaker/NNP Oats/NNPS)\n  is/VBZ\n  the/DT\n  way/NN\n  to/TO\n  go/VB\n  ./.)\n",
          "output_type": "stream"
        }
      ],
      "execution_count": null
    },
    {
      "cell_type": "markdown",
      "source": [
        "**Sentiment Scoring (neg/neu/pos)** \\\n",
        "by sentimentintensityanalyzer"
      ],
      "metadata": {
        "id": "J3ySQm57Gndi"
      }
    },
    {
      "cell_type": "code",
      "source": [
        "from nltk.sentiment import SentimentIntensityAnalyzer\n",
        "from tqdm.notebook import tqdm\n",
        "sia = SentimentIntensityAnalyzer()"
      ],
      "metadata": {
        "trusted": true,
        "execution": {
          "iopub.status.busy": "2025-02-09T00:20:14.518513Z",
          "iopub.execute_input": "2025-02-09T00:20:14.518793Z",
          "iopub.status.idle": "2025-02-09T00:20:14.538479Z",
          "shell.execute_reply.started": "2025-02-09T00:20:14.51877Z",
          "shell.execute_reply": "2025-02-09T00:20:14.537489Z"
        },
        "id": "Syzcqh8RGndj"
      },
      "outputs": [],
      "execution_count": null
    },
    {
      "cell_type": "markdown",
      "source": [
        "Example"
      ],
      "metadata": {
        "id": "flDaxu1AGndj"
      }
    },
    {
      "cell_type": "code",
      "source": [
        "sia.polarity_scores('I am so happy!')"
      ],
      "metadata": {
        "trusted": true,
        "execution": {
          "iopub.status.busy": "2025-02-09T00:20:14.539452Z",
          "iopub.execute_input": "2025-02-09T00:20:14.539727Z",
          "iopub.status.idle": "2025-02-09T00:20:14.555045Z",
          "shell.execute_reply.started": "2025-02-09T00:20:14.539704Z",
          "shell.execute_reply": "2025-02-09T00:20:14.554221Z"
        },
        "id": "hSCNA4fVGndm",
        "outputId": "9b32e962-e957-43ec-82c3-1199efc24064"
      },
      "outputs": [
        {
          "execution_count": 38,
          "output_type": "execute_result",
          "data": {
            "text/plain": "{'neg': 0.0, 'neu': 0.318, 'pos': 0.682, 'compound': 0.6468}"
          },
          "metadata": {}
        }
      ],
      "execution_count": null
    },
    {
      "cell_type": "code",
      "source": [
        "sia.polarity_scores(ex)"
      ],
      "metadata": {
        "trusted": true,
        "execution": {
          "iopub.status.busy": "2025-02-09T00:20:14.556044Z",
          "iopub.execute_input": "2025-02-09T00:20:14.556394Z",
          "iopub.status.idle": "2025-02-09T00:20:14.571291Z",
          "shell.execute_reply.started": "2025-02-09T00:20:14.556361Z",
          "shell.execute_reply": "2025-02-09T00:20:14.570349Z"
        },
        "id": "sZn4-m6kGndm",
        "outputId": "0b62effa-a617-4402-a259-3cc60affd015"
      },
      "outputs": [
        {
          "execution_count": 39,
          "output_type": "execute_result",
          "data": {
            "text/plain": "{'neg': 0.22, 'neu': 0.78, 'pos': 0.0, 'compound': -0.5448}"
          },
          "metadata": {}
        }
      ],
      "execution_count": null
    },
    {
      "cell_type": "code",
      "source": [
        "# run the scores on the entire dataset\n",
        "res = {}\n",
        "for i, row in tqdm(df.iterrows(), total=len(df)):\n",
        "    text = row['Text']\n",
        "    myid = row['Id']\n",
        "    res[myid]=sia.polarity_scores(text)"
      ],
      "metadata": {
        "trusted": true,
        "execution": {
          "iopub.status.busy": "2025-02-09T00:20:14.572246Z",
          "iopub.execute_input": "2025-02-09T00:20:14.572588Z",
          "iopub.status.idle": "2025-02-09T00:20:15.051828Z",
          "shell.execute_reply.started": "2025-02-09T00:20:14.572565Z",
          "shell.execute_reply": "2025-02-09T00:20:15.05042Z"
        },
        "id": "ESzjyfPjGndm",
        "outputId": "877e4c8e-9581-4d1b-851a-1095bc99aae2",
        "colab": {
          "referenced_widgets": [
            "7358f9a87c41464d8039f9e1ab2f5cb7"
          ]
        }
      },
      "outputs": [
        {
          "output_type": "display_data",
          "data": {
            "text/plain": "  0%|          | 0/500 [00:00<?, ?it/s]",
            "application/vnd.jupyter.widget-view+json": {
              "version_major": 2,
              "version_minor": 0,
              "model_id": "7358f9a87c41464d8039f9e1ab2f5cb7"
            }
          },
          "metadata": {}
        }
      ],
      "execution_count": null
    },
    {
      "cell_type": "code",
      "source": [
        "vaders = pd.DataFrame(res).T\n",
        "vaders = vaders.reset_index().rename(columns={'index': 'Id'})\n",
        "vaders = vaders.merge(df, how='left')"
      ],
      "metadata": {
        "trusted": true,
        "execution": {
          "iopub.status.busy": "2025-02-09T00:20:15.053057Z",
          "iopub.execute_input": "2025-02-09T00:20:15.053451Z",
          "iopub.status.idle": "2025-02-09T00:20:15.072029Z",
          "shell.execute_reply.started": "2025-02-09T00:20:15.053413Z",
          "shell.execute_reply": "2025-02-09T00:20:15.071039Z"
        },
        "id": "2PetzZORGndn"
      },
      "outputs": [],
      "execution_count": null
    },
    {
      "cell_type": "code",
      "source": [
        "vaders.head()"
      ],
      "metadata": {
        "trusted": true,
        "execution": {
          "iopub.status.busy": "2025-02-09T00:20:15.073102Z",
          "iopub.execute_input": "2025-02-09T00:20:15.073481Z",
          "iopub.status.idle": "2025-02-09T00:20:15.092764Z",
          "shell.execute_reply.started": "2025-02-09T00:20:15.073446Z",
          "shell.execute_reply": "2025-02-09T00:20:15.091915Z"
        },
        "id": "QZsIdDzfGndn",
        "outputId": "6d725965-5959-49ba-bc73-cd5ed1cd53e8"
      },
      "outputs": [
        {
          "execution_count": 42,
          "output_type": "execute_result",
          "data": {
            "text/plain": "   Id    neg    neu    pos  compound   ProductId          UserId  \\\n0   1  0.000  0.695  0.305    0.9441  B001E4KFG0  A3SGXH7AUHU8GW   \n1   2  0.079  0.853  0.068   -0.1027  B00813GRG4  A1D87F6ZCVE5NK   \n2   3  0.091  0.754  0.155    0.8265  B000LQOCH0   ABXLMWJIXXAIN   \n3   4  0.000  1.000  0.000    0.0000  B000UA0QIQ  A395BORC6FGVXV   \n4   5  0.000  0.552  0.448    0.9468  B006K2ZZ7K  A1UQRSCLF8GW1T   \n\n                       ProfileName  HelpfulnessNumerator  \\\n0                       delmartian                     1   \n1                           dll pa                     0   \n2  Natalia Corres \"Natalia Corres\"                     1   \n3                             Karl                     3   \n4    Michael D. Bigham \"M. Wassir\"                     0   \n\n   HelpfulnessDenominator  Score        Time                Summary  \\\n0                       1      5  1303862400  Good Quality Dog Food   \n1                       0      1  1346976000      Not as Advertised   \n2                       1      4  1219017600  \"Delight\" says it all   \n3                       3      2  1307923200         Cough Medicine   \n4                       0      5  1350777600            Great taffy   \n\n                                                Text  \n0  I have bought several of the Vitality canned d...  \n1  Product arrived labeled as Jumbo Salted Peanut...  \n2  This is a confection that has been around a fe...  \n3  If you are looking for the secret ingredient i...  \n4  Great taffy at a great price.  There was a wid...  ",
            "text/html": "<div>\n<style scoped>\n    .dataframe tbody tr th:only-of-type {\n        vertical-align: middle;\n    }\n\n    .dataframe tbody tr th {\n        vertical-align: top;\n    }\n\n    .dataframe thead th {\n        text-align: right;\n    }\n</style>\n<table border=\"1\" class=\"dataframe\">\n  <thead>\n    <tr style=\"text-align: right;\">\n      <th></th>\n      <th>Id</th>\n      <th>neg</th>\n      <th>neu</th>\n      <th>pos</th>\n      <th>compound</th>\n      <th>ProductId</th>\n      <th>UserId</th>\n      <th>ProfileName</th>\n      <th>HelpfulnessNumerator</th>\n      <th>HelpfulnessDenominator</th>\n      <th>Score</th>\n      <th>Time</th>\n      <th>Summary</th>\n      <th>Text</th>\n    </tr>\n  </thead>\n  <tbody>\n    <tr>\n      <th>0</th>\n      <td>1</td>\n      <td>0.000</td>\n      <td>0.695</td>\n      <td>0.305</td>\n      <td>0.9441</td>\n      <td>B001E4KFG0</td>\n      <td>A3SGXH7AUHU8GW</td>\n      <td>delmartian</td>\n      <td>1</td>\n      <td>1</td>\n      <td>5</td>\n      <td>1303862400</td>\n      <td>Good Quality Dog Food</td>\n      <td>I have bought several of the Vitality canned d...</td>\n    </tr>\n    <tr>\n      <th>1</th>\n      <td>2</td>\n      <td>0.079</td>\n      <td>0.853</td>\n      <td>0.068</td>\n      <td>-0.1027</td>\n      <td>B00813GRG4</td>\n      <td>A1D87F6ZCVE5NK</td>\n      <td>dll pa</td>\n      <td>0</td>\n      <td>0</td>\n      <td>1</td>\n      <td>1346976000</td>\n      <td>Not as Advertised</td>\n      <td>Product arrived labeled as Jumbo Salted Peanut...</td>\n    </tr>\n    <tr>\n      <th>2</th>\n      <td>3</td>\n      <td>0.091</td>\n      <td>0.754</td>\n      <td>0.155</td>\n      <td>0.8265</td>\n      <td>B000LQOCH0</td>\n      <td>ABXLMWJIXXAIN</td>\n      <td>Natalia Corres \"Natalia Corres\"</td>\n      <td>1</td>\n      <td>1</td>\n      <td>4</td>\n      <td>1219017600</td>\n      <td>\"Delight\" says it all</td>\n      <td>This is a confection that has been around a fe...</td>\n    </tr>\n    <tr>\n      <th>3</th>\n      <td>4</td>\n      <td>0.000</td>\n      <td>1.000</td>\n      <td>0.000</td>\n      <td>0.0000</td>\n      <td>B000UA0QIQ</td>\n      <td>A395BORC6FGVXV</td>\n      <td>Karl</td>\n      <td>3</td>\n      <td>3</td>\n      <td>2</td>\n      <td>1307923200</td>\n      <td>Cough Medicine</td>\n      <td>If you are looking for the secret ingredient i...</td>\n    </tr>\n    <tr>\n      <th>4</th>\n      <td>5</td>\n      <td>0.000</td>\n      <td>0.552</td>\n      <td>0.448</td>\n      <td>0.9468</td>\n      <td>B006K2ZZ7K</td>\n      <td>A1UQRSCLF8GW1T</td>\n      <td>Michael D. Bigham \"M. Wassir\"</td>\n      <td>0</td>\n      <td>0</td>\n      <td>5</td>\n      <td>1350777600</td>\n      <td>Great taffy</td>\n      <td>Great taffy at a great price.  There was a wid...</td>\n    </tr>\n  </tbody>\n</table>\n</div>"
          },
          "metadata": {}
        }
      ],
      "execution_count": null
    },
    {
      "cell_type": "code",
      "source": [
        "ax = sns.barplot(data=vaders, x='Score', y='compound')\n",
        "ax.set_title('Compound Score by Amazon Star Review')\n",
        "plt.show()"
      ],
      "metadata": {
        "trusted": true,
        "execution": {
          "iopub.status.busy": "2025-02-09T00:20:15.09361Z",
          "iopub.execute_input": "2025-02-09T00:20:15.093936Z",
          "iopub.status.idle": "2025-02-09T00:20:15.368396Z",
          "shell.execute_reply.started": "2025-02-09T00:20:15.093912Z",
          "shell.execute_reply": "2025-02-09T00:20:15.367386Z"
        },
        "id": "RAuKiryZGndn",
        "outputId": "b6ffa246-bd1a-47fe-d81e-c5aa0e923263"
      },
      "outputs": [
        {
          "output_type": "display_data",
          "data": {
            "text/plain": "<Figure size 640x480 with 1 Axes>",
            "image/png": "[encoded data removed]"
          },
          "metadata": {}
        }
      ],
      "execution_count": null
    },
    {
      "cell_type": "code",
      "source": [
        "fig, axs = plt.subplots(1, 3, figsize=(12, 3))\n",
        "sns.barplot(data=vaders, x='Score', y='pos', ax=axs[0])\n",
        "sns.barplot(data=vaders, x='Score', y='neu', ax=axs[1])\n",
        "sns.barplot(data=vaders, x='Score', y='neg', ax=axs[2])\n",
        "axs[0].set_title('Positive')\n",
        "axs[1].set_title('Neutral')\n",
        "axs[2].set_title('Negative')\n",
        "plt.tight_layout()\n",
        "plt.show()"
      ],
      "metadata": {
        "trusted": true,
        "execution": {
          "iopub.status.busy": "2025-02-09T00:20:15.369531Z",
          "iopub.execute_input": "2025-02-09T00:20:15.369779Z",
          "iopub.status.idle": "2025-02-09T00:20:16.188516Z",
          "shell.execute_reply.started": "2025-02-09T00:20:15.369757Z",
          "shell.execute_reply": "2025-02-09T00:20:16.187218Z"
        },
        "id": "_PXx0PEEGndo",
        "outputId": "eabba81d-cde2-48ff-c6aa-cbf027318b1e"
      },
      "outputs": [
        {
          "output_type": "display_data",
          "data": {
            "text/plain": "<Figure size 1200x300 with 3 Axes>",
            "image/png": "[encoded data removed]"
          },
          "metadata": {}
        }
      ],
      "execution_count": null
    },
    {
      "cell_type": "code",
      "source": [
        "from transformers import AutoTokenizer\n",
        "from transformers import AutoModelForSequenceClassification\n",
        "from scipy.special import softmax"
      ],
      "metadata": {
        "trusted": true,
        "execution": {
          "iopub.status.busy": "2025-02-09T00:20:16.189526Z",
          "iopub.execute_input": "2025-02-09T00:20:16.189826Z",
          "iopub.status.idle": "2025-02-09T00:20:16.194301Z",
          "shell.execute_reply.started": "2025-02-09T00:20:16.1898Z",
          "shell.execute_reply": "2025-02-09T00:20:16.193199Z"
        },
        "id": "DbMhDMeiGndo"
      },
      "outputs": [],
      "execution_count": null
    },
    {
      "cell_type": "code",
      "source": [
        "MODEL = f\"cardiffnlp/twitter-roberta-base-sentiment\"\n",
        "tokenizer = AutoTokenizer.from_pretrained(MODEL)\n",
        "model = AutoModelForSequenceClassification.from_pretrained(MODEL)"
      ],
      "metadata": {
        "trusted": true,
        "execution": {
          "iopub.status.busy": "2025-02-09T00:20:16.195114Z",
          "iopub.execute_input": "2025-02-09T00:20:16.195392Z",
          "iopub.status.idle": "2025-02-09T00:20:17.78281Z",
          "shell.execute_reply.started": "2025-02-09T00:20:16.195368Z",
          "shell.execute_reply": "2025-02-09T00:20:17.781075Z"
        },
        "id": "UKjPsEDXGndo"
      },
      "outputs": [],
      "execution_count": null
    },
    {
      "cell_type": "code",
      "source": [
        "# VADER results on example\n",
        "print(ex)\n",
        "sia.polarity_scores(ex)"
      ],
      "metadata": {
        "trusted": true,
        "execution": {
          "iopub.status.busy": "2025-02-09T00:20:17.785409Z",
          "iopub.execute_input": "2025-02-09T00:20:17.785742Z",
          "iopub.status.idle": "2025-02-09T00:20:17.795732Z",
          "shell.execute_reply.started": "2025-02-09T00:20:17.785704Z",
          "shell.execute_reply": "2025-02-09T00:20:17.79476Z"
        },
        "id": "H9H599KGGndo",
        "outputId": "ad38eaeb-1278-4c26-f66f-a967a945852d"
      },
      "outputs": [
        {
          "name": "stdout",
          "text": "This oatmeal is not good. Its mushy, soft, I don't like it. Quaker Oats is the way to go.\n",
          "output_type": "stream"
        },
        {
          "execution_count": 47,
          "output_type": "execute_result",
          "data": {
            "text/plain": "{'neg': 0.22, 'neu': 0.78, 'pos': 0.0, 'compound': -0.5448}"
          },
          "metadata": {}
        }
      ],
      "execution_count": null
    },
    {
      "cell_type": "code",
      "source": [
        "# Run for Roberta Model\n",
        "encoded_text = tokenizer(ex, return_tensors='pt')\n",
        "output = model(**encoded_text)\n",
        "scores = output[0][0].detach().numpy()\n",
        "scores = softmax(scores)\n",
        "scores_dict = {\n",
        "    'roberta_neg' : scores[0],\n",
        "    'roberta_neu' : scores[1],\n",
        "    'roberta_pos' : scores[2]\n",
        "}\n",
        "print(scores_dict)"
      ],
      "metadata": {
        "trusted": true,
        "execution": {
          "iopub.status.busy": "2025-02-09T00:20:17.796717Z",
          "iopub.execute_input": "2025-02-09T00:20:17.797005Z",
          "iopub.status.idle": "2025-02-09T00:20:17.979772Z",
          "shell.execute_reply.started": "2025-02-09T00:20:17.796981Z",
          "shell.execute_reply": "2025-02-09T00:20:17.978738Z"
        },
        "id": "vcyKIohZGndo",
        "outputId": "f08d3c62-78ea-4847-8d87-e8afc0f0d4c4"
      },
      "outputs": [
        {
          "name": "stdout",
          "text": "{'roberta_neg': 0.97635514, 'roberta_neu': 0.020687463, 'roberta_pos': 0.0029573694}\n",
          "output_type": "stream"
        }
      ],
      "execution_count": null
    },
    {
      "cell_type": "code",
      "source": [
        "def polarity_scores_roberta(example):\n",
        "    encoded_text = tokenizer(example, return_tensors='pt')\n",
        "    output = model(**encoded_text)\n",
        "    scores = output[0][0].detach().numpy()\n",
        "    scores = softmax(scores)\n",
        "    scores_dict = {\n",
        "        'roberta_neg' : scores[0],\n",
        "        'roberta_neu' : scores[1],\n",
        "        'roberta_pos' : scores[2]\n",
        "    }\n",
        "    return scores_dict"
      ],
      "metadata": {
        "trusted": true,
        "execution": {
          "iopub.status.busy": "2025-02-09T00:20:17.98079Z",
          "iopub.execute_input": "2025-02-09T00:20:17.981123Z",
          "iopub.status.idle": "2025-02-09T00:20:17.986153Z",
          "shell.execute_reply.started": "2025-02-09T00:20:17.981083Z",
          "shell.execute_reply": "2025-02-09T00:20:17.985227Z"
        },
        "id": "gdRXN2KeGndo"
      },
      "outputs": [],
      "execution_count": null
    },
    {
      "cell_type": "code",
      "source": [
        "res = {}\n",
        "for i, row in tqdm(df.iterrows(), total=len(df)):\n",
        "    try:\n",
        "        text = row['Text']\n",
        "        myid = row['Id']\n",
        "        vader_result = sia.polarity_scores(text)\n",
        "        vader_result_rename = {}\n",
        "        for key, value in vader_result.items():\n",
        "            vader_result_rename[f\"vader_{key}\"] = value\n",
        "        roberta_result = polarity_scores_roberta(text)\n",
        "        both = {**vader_result_rename, **roberta_result}\n",
        "        res[myid] = both\n",
        "    except RuntimeError:\n",
        "        print(f'Broke for id {myid}')"
      ],
      "metadata": {
        "trusted": true,
        "execution": {
          "iopub.status.busy": "2025-02-09T00:20:17.987162Z",
          "iopub.execute_input": "2025-02-09T00:20:17.987469Z",
          "iopub.status.idle": "2025-02-09T00:21:39.129298Z",
          "shell.execute_reply.started": "2025-02-09T00:20:17.987437Z",
          "shell.execute_reply": "2025-02-09T00:21:39.127996Z"
        },
        "id": "iFm7W83RGndp",
        "outputId": "b0aea336-6845-469d-bb66-745dc9310f43",
        "colab": {
          "referenced_widgets": [
            "e9599d103d624814a70b665b98f4efee"
          ]
        }
      },
      "outputs": [
        {
          "output_type": "display_data",
          "data": {
            "text/plain": "  0%|          | 0/500 [00:00<?, ?it/s]",
            "application/vnd.jupyter.widget-view+json": {
              "version_major": 2,
              "version_minor": 0,
              "model_id": "e9599d103d624814a70b665b98f4efee"
            }
          },
          "metadata": {}
        },
        {
          "name": "stdout",
          "text": "Broke for id 83\nBroke for id 187\n",
          "output_type": "stream"
        }
      ],
      "execution_count": null
    },
    {
      "cell_type": "code",
      "source": [
        "results_df = pd.DataFrame(res).T\n",
        "results_df = results_df.reset_index().rename(columns={'index': 'Id'})\n",
        "results_df = results_df.merge(df, how='left')"
      ],
      "metadata": {
        "trusted": true,
        "execution": {
          "iopub.status.busy": "2025-02-09T00:21:39.133198Z",
          "iopub.execute_input": "2025-02-09T00:21:39.133491Z",
          "iopub.status.idle": "2025-02-09T00:21:39.155483Z",
          "shell.execute_reply.started": "2025-02-09T00:21:39.133467Z",
          "shell.execute_reply": "2025-02-09T00:21:39.154631Z"
        },
        "id": "GOsMR3uIGndp"
      },
      "outputs": [],
      "execution_count": null
    },
    {
      "cell_type": "code",
      "source": [
        "results_df.columns"
      ],
      "metadata": {
        "trusted": true,
        "execution": {
          "iopub.status.busy": "2025-02-09T00:21:39.15663Z",
          "iopub.execute_input": "2025-02-09T00:21:39.156894Z",
          "iopub.status.idle": "2025-02-09T00:21:39.167784Z",
          "shell.execute_reply.started": "2025-02-09T00:21:39.15687Z",
          "shell.execute_reply": "2025-02-09T00:21:39.1667Z"
        },
        "id": "zCJ3hiyPGndp",
        "outputId": "d073d5b1-364a-4f3f-9aaa-934e5987e553"
      },
      "outputs": [
        {
          "execution_count": 52,
          "output_type": "execute_result",
          "data": {
            "text/plain": "Index(['Id', 'vader_neg', 'vader_neu', 'vader_pos', 'vader_compound',\n       'roberta_neg', 'roberta_neu', 'roberta_pos', 'ProductId', 'UserId',\n       'ProfileName', 'HelpfulnessNumerator', 'HelpfulnessDenominator',\n       'Score', 'Time', 'Summary', 'Text'],\n      dtype='object')"
          },
          "metadata": {}
        }
      ],
      "execution_count": null
    },
    {
      "cell_type": "markdown",
      "source": [
        "Combine and Compare"
      ],
      "metadata": {
        "id": "s3bmr1dZGndp"
      }
    },
    {
      "cell_type": "code",
      "source": [
        "sns.pairplot(data=results_df,\n",
        "             vars=['vader_neg', 'vader_neu', 'vader_pos',\n",
        "                  'roberta_neg', 'roberta_neu', 'roberta_pos'],\n",
        "            hue='Score',\n",
        "            palette='tab10')\n",
        "plt.show()"
      ],
      "metadata": {
        "trusted": true,
        "execution": {
          "iopub.status.busy": "2025-02-09T00:21:39.168712Z",
          "iopub.execute_input": "2025-02-09T00:21:39.168994Z"
        },
        "id": "6l_jRKP4Gndq",
        "outputId": "ce0cff02-5192-4365-a830-7edc0bc7bbe5"
      },
      "outputs": [
        {
          "name": "stderr",
          "text": "/usr/local/lib/python3.10/dist-packages/seaborn/_oldcore.py:1119: FutureWarning: use_inf_as_na option is deprecated and will be removed in a future version. Convert inf values to NaN before operating instead.\n  with pd.option_context('mode.use_inf_as_na', True):\n/usr/local/lib/python3.10/dist-packages/seaborn/_oldcore.py:1075: FutureWarning: When grouping with a length-1 list-like, you will need to pass a length-1 tuple to get_group in a future version of pandas. Pass `(name,)` instead of `name` to silence this warning.\n  data_subset = grouped_data.get_group(pd_key)\n/usr/local/lib/python3.10/dist-packages/seaborn/_oldcore.py:1119: FutureWarning: use_inf_as_na option is deprecated and will be removed in a future version. Convert inf values to NaN before operating instead.\n  with pd.option_context('mode.use_inf_as_na', True):\n/usr/local/lib/python3.10/dist-packages/seaborn/_oldcore.py:1075: FutureWarning: When grouping with a length-1 list-like, you will need to pass a length-1 tuple to get_group in a future version of pandas. Pass `(name,)` instead of `name` to silence this warning.\n  data_subset = grouped_data.get_group(pd_key)\n/usr/local/lib/python3.10/dist-packages/seaborn/_oldcore.py:1119: FutureWarning: use_inf_as_na option is deprecated and will be removed in a future version. Convert inf values to NaN before operating instead.\n  with pd.option_context('mode.use_inf_as_na', True):\n/usr/local/lib/python3.10/dist-packages/seaborn/_oldcore.py:1075: FutureWarning: When grouping with a length-1 list-like, you will need to pass a length-1 tuple to get_group in a future version of pandas. Pass `(name,)` instead of `name` to silence this warning.\n  data_subset = grouped_data.get_group(pd_key)\n/usr/local/lib/python3.10/dist-packages/seaborn/_oldcore.py:1119: FutureWarning: use_inf_as_na option is deprecated and will be removed in a future version. Convert inf values to NaN before operating instead.\n  with pd.option_context('mode.use_inf_as_na', True):\n/usr/local/lib/python3.10/dist-packages/seaborn/_oldcore.py:1075: FutureWarning: When grouping with a length-1 list-like, you will need to pass a length-1 tuple to get_group in a future version of pandas. Pass `(name,)` instead of `name` to silence this warning.\n  data_subset = grouped_data.get_group(pd_key)\n/usr/local/lib/python3.10/dist-packages/seaborn/_oldcore.py:1119: FutureWarning: use_inf_as_na option is deprecated and will be removed in a future version. Convert inf values to NaN before operating instead.\n  with pd.option_context('mode.use_inf_as_na', True):\n/usr/local/lib/python3.10/dist-packages/seaborn/_oldcore.py:1075: FutureWarning: When grouping with a length-1 list-like, you will need to pass a length-1 tuple to get_group in a future version of pandas. Pass `(name,)` instead of `name` to silence this warning.\n  data_subset = grouped_data.get_group(pd_key)\n/usr/local/lib/python3.10/dist-packages/seaborn/_oldcore.py:1119: FutureWarning: use_inf_as_na option is deprecated and will be removed in a future version. Convert inf values to NaN before operating instead.\n  with pd.option_context('mode.use_inf_as_na', True):\n/usr/local/lib/python3.10/dist-packages/seaborn/_oldcore.py:1075: FutureWarning: When grouping with a length-1 list-like, you will need to pass a length-1 tuple to get_group in a future version of pandas. Pass `(name,)` instead of `name` to silence this warning.\n  data_subset = grouped_data.get_group(pd_key)\n",
          "output_type": "stream"
        }
      ],
      "execution_count": null
    },
    {
      "cell_type": "markdown",
      "source": [
        "REview d Example"
      ],
      "metadata": {
        "id": "vkk4U9bbGndr"
      }
    },
    {
      "cell_type": "code",
      "source": [
        "results_df.query('Score == 1') \\\n",
        "    .sort_values('roberta_pos', ascending=False)['Text'].values[0]"
      ],
      "metadata": {
        "trusted": true,
        "execution": {
          "iopub.status.busy": "2025-02-09T00:23:51.871757Z",
          "iopub.execute_input": "2025-02-09T00:23:51.872084Z",
          "iopub.status.idle": "2025-02-09T00:23:51.889007Z",
          "shell.execute_reply.started": "2025-02-09T00:23:51.872059Z",
          "shell.execute_reply": "2025-02-09T00:23:51.887828Z"
        },
        "id": "F9H97v5-Gndr",
        "outputId": "227093c7-a9e7-4630-b703-0a23cb2ca925"
      },
      "outputs": [
        {
          "execution_count": 54,
          "output_type": "execute_result",
          "data": {
            "text/plain": "'I felt energized within five minutes, but it lasted for about 45 minutes. I paid $3.99 for this drink. I could have just drunk a cup of coffee and saved my money.'"
          },
          "metadata": {}
        }
      ],
      "execution_count": null
    },
    {
      "cell_type": "code",
      "source": [
        "results_df.query('Score == 1') \\\n",
        "    .sort_values('vader_pos', ascending=False)['Text'].values[1]"
      ],
      "metadata": {
        "trusted": true,
        "execution": {
          "iopub.status.busy": "2025-02-09T00:24:05.869914Z",
          "iopub.execute_input": "2025-02-09T00:24:05.870253Z",
          "iopub.status.idle": "2025-02-09T00:24:05.882559Z",
          "shell.execute_reply.started": "2025-02-09T00:24:05.870221Z",
          "shell.execute_reply": "2025-02-09T00:24:05.881646Z"
        },
        "id": "FOL0MclDGndr",
        "outputId": "18e932cd-bd6f-4a6c-8d15-4d0cbc62c330"
      },
      "outputs": [
        {
          "execution_count": 55,
          "output_type": "execute_result",
          "data": {
            "text/plain": "'Seriously this product was as tasteless as they come. There are much better tasting products out there but at 100 calories its better than a special k bar or cookie snack pack. You just have to season it or combine it with something else to share the flavor.'"
          },
          "metadata": {}
        }
      ],
      "execution_count": null
    },
    {
      "cell_type": "code",
      "source": [
        "results_df.query('Score == 5') \\\n",
        "    .sort_values('roberta_neg', ascending=False)['Text'].values[2]"
      ],
      "metadata": {
        "trusted": true,
        "execution": {
          "iopub.status.busy": "2025-02-09T00:24:22.703582Z",
          "iopub.execute_input": "2025-02-09T00:24:22.703918Z",
          "iopub.status.idle": "2025-02-09T00:24:22.716231Z",
          "shell.execute_reply.started": "2025-02-09T00:24:22.703893Z",
          "shell.execute_reply": "2025-02-09T00:24:22.715044Z"
        },
        "id": "JBLNvq-eGnds",
        "outputId": "b8031d3c-8770-4af5-bd8c-6f5bb2db1ea6"
      },
      "outputs": [
        {
          "execution_count": 56,
          "output_type": "execute_result",
          "data": {
            "text/plain": "\"I have lived out of the US for over 7 yrs now, and I so miss my Twizzlers!!  When I go back to visit or someone visits me, I always stock up.  All I can say is YUM!<br />Sell these in Mexico and you will have a faithful buyer, more often than I'm able to buy them right now.\""
          },
          "metadata": {}
        }
      ],
      "execution_count": null
    },
    {
      "cell_type": "markdown",
      "source": [
        "The transformer pipeline"
      ],
      "metadata": {
        "id": "ZoHy0a6UGnds"
      }
    },
    {
      "cell_type": "code",
      "source": [
        "from transformers import pipeline\n",
        "\n",
        "sent_pipeline = pipeline(\"sentiment-analysis\")"
      ],
      "metadata": {
        "trusted": true,
        "execution": {
          "iopub.status.busy": "2025-02-09T00:24:57.904987Z",
          "iopub.execute_input": "2025-02-09T00:24:57.905478Z",
          "iopub.status.idle": "2025-02-09T00:25:04.778489Z",
          "shell.execute_reply.started": "2025-02-09T00:24:57.905438Z",
          "shell.execute_reply": "2025-02-09T00:25:04.77751Z"
        },
        "id": "FjVistYXGnds",
        "outputId": "d16015bb-ebe0-4606-f084-fafacd78eff9",
        "colab": {
          "referenced_widgets": [
            "b51d6000795541c1981605ed57df0afa",
            "fbb8f820f36c4a5190ddd5e47c64ef30",
            "65dd0d009bd441c8b93fad850c67d7c6",
            "c1ef2de22e434885a867d193a9a06186"
          ]
        }
      },
      "outputs": [
        {
          "name": "stderr",
          "text": "No model was supplied, defaulted to distilbert/distilbert-base-uncased-finetuned-sst-2-english and revision 714eb0f (https://huggingface.co/distilbert/distilbert-base-uncased-finetuned-sst-2-english).\nUsing a pipeline without specifying a model name and revision in production is not recommended.\n",
          "output_type": "stream"
        },
        {
          "output_type": "display_data",
          "data": {
            "text/plain": "config.json:   0%|          | 0.00/629 [00:00<?, ?B/s]",
            "application/vnd.jupyter.widget-view+json": {
              "version_major": 2,
              "version_minor": 0,
              "model_id": "b51d6000795541c1981605ed57df0afa"
            }
          },
          "metadata": {}
        },
        {
          "output_type": "display_data",
          "data": {
            "text/plain": "model.safetensors:   0%|          | 0.00/268M [00:00<?, ?B/s]",
            "application/vnd.jupyter.widget-view+json": {
              "version_major": 2,
              "version_minor": 0,
              "model_id": "fbb8f820f36c4a5190ddd5e47c64ef30"
            }
          },
          "metadata": {}
        },
        {
          "output_type": "display_data",
          "data": {
            "text/plain": "tokenizer_config.json:   0%|          | 0.00/48.0 [00:00<?, ?B/s]",
            "application/vnd.jupyter.widget-view+json": {
              "version_major": 2,
              "version_minor": 0,
              "model_id": "65dd0d009bd441c8b93fad850c67d7c6"
            }
          },
          "metadata": {}
        },
        {
          "output_type": "display_data",
          "data": {
            "text/plain": "vocab.txt:   0%|          | 0.00/232k [00:00<?, ?B/s]",
            "application/vnd.jupyter.widget-view+json": {
              "version_major": 2,
              "version_minor": 0,
              "model_id": "c1ef2de22e434885a867d193a9a06186"
            }
          },
          "metadata": {}
        },
        {
          "name": "stderr",
          "text": "Device set to use cpu\n",
          "output_type": "stream"
        }
      ],
      "execution_count": null
    },
    {
      "cell_type": "code",
      "source": [
        "sent_pipeline('I love sentiment analysis!')"
      ],
      "metadata": {
        "trusted": true,
        "execution": {
          "iopub.status.busy": "2025-02-09T00:25:16.745391Z",
          "iopub.execute_input": "2025-02-09T00:25:16.745757Z",
          "iopub.status.idle": "2025-02-09T00:25:16.789582Z",
          "shell.execute_reply.started": "2025-02-09T00:25:16.745731Z",
          "shell.execute_reply": "2025-02-09T00:25:16.788567Z"
        },
        "id": "-6ZMwbQ0Gnds",
        "outputId": "46287a62-05f3-4a6f-f37d-36164ff0dd03"
      },
      "outputs": [
        {
          "execution_count": 58,
          "output_type": "execute_result",
          "data": {
            "text/plain": "[{'label': 'POSITIVE', 'score': 0.9997853636741638}]"
          },
          "metadata": {}
        }
      ],
      "execution_count": null
    },
    {
      "cell_type": "code",
      "source": [
        "sent_pipeline('booo')"
      ],
      "metadata": {
        "trusted": true,
        "execution": {
          "iopub.status.busy": "2025-02-09T00:25:30.040386Z",
          "iopub.execute_input": "2025-02-09T00:25:30.040736Z",
          "iopub.status.idle": "2025-02-09T00:25:30.088907Z",
          "shell.execute_reply.started": "2025-02-09T00:25:30.040712Z",
          "shell.execute_reply": "2025-02-09T00:25:30.088149Z"
        },
        "id": "T26o_NFMGndx",
        "outputId": "ebb8716b-8bdb-44ad-8328-8fe767e55e7d"
      },
      "outputs": [
        {
          "execution_count": 59,
          "output_type": "execute_result",
          "data": {
            "text/plain": "[{'label': 'NEGATIVE', 'score': 0.9936267137527466}]"
          },
          "metadata": {}
        }
      ],
      "execution_count": null
    },
    {
      "cell_type": "code",
      "source": [],
      "metadata": {
        "trusted": true,
        "id": "2bhjFFp4Gndx"
      },
      "outputs": [],
      "execution_count": null
    }
  ]
}